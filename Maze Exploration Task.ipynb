{
 "cells": [
  {
   "cell_type": "code",
   "execution_count": 70,
   "metadata": {},
   "outputs": [],
   "source": [
    "%matplotlib inline\n",
    "import numpy as np\n",
    "import matplotlib.pyplot as plt\n",
    "import scipy.special as sp\n",
    "from scipy import optimize"
   ]
  },
  {
   "cell_type": "markdown",
   "metadata": {},
   "source": [
    "# Maze task basic results"
   ]
  },
  {
   "cell_type": "code",
   "execution_count": 79,
   "metadata": {},
   "outputs": [],
   "source": [
    "def links(environment,rooms):\n",
    "    theta = np.zeros([rooms,4])\n",
    "    for i in range(environment.shape[0]):\n",
    "        for j in range(environment.shape[1]):\n",
    "            value = environment[i,j]\n",
    "            left = j-1\n",
    "            if(left<0):\n",
    "                left = environment.shape[1]-1\n",
    "            right = j+1\n",
    "            if(right==environment.shape[1]):\n",
    "                right = 0\n",
    "            up = i-1\n",
    "            if(up<0):\n",
    "                up = environment.shape[0]-1\n",
    "            down = i+1\n",
    "            if(down==environment.shape[0]):\n",
    "                down = 0\n",
    "            theta[value-1,0] = environment[i,left]\n",
    "            theta[value-1,1] = environment[i,right]\n",
    "            theta[value-1,2] = environment[up,j]\n",
    "            theta[value-1,3] = environment[down,j]\n",
    "    return theta.astype(int)"
   ]
  },
  {
   "cell_type": "code",
   "execution_count": 86,
   "metadata": {},
   "outputs": [],
   "source": [
    "def KL_dirichlet(m,n):\n",
    "    kl = 0\n",
    "    kl += np.log(sp.gamma(np.sum(m)))\n",
    "    kl -= np.log(sp.gamma(np.sum(n)))\n",
    "    kl -= np.sum(np.log(sp.gamma(m)))\n",
    "    kl += np.sum(np.log(sp.gamma(n)))\n",
    "    kl += np.sum((m-n)*(sp.psi(m)-sp.psi(np.sum(m))))\n",
    "    \n",
    "    return kl\n",
    "\n"
   ]
  },
  {
   "cell_type": "markdown",
   "metadata": {},
   "source": [
    "## Basic algorithm"
   ]
  },
  {
   "cell_type": "code",
   "execution_count": 126,
   "metadata": {},
   "outputs": [
    {
     "name": "stdout",
     "output_type": "stream",
     "text": [
      "Iteration 10000 out of 100000\n",
      "Iteration 20000 out of 100000\n",
      "Iteration 30000 out of 100000\n",
      "Iteration 40000 out of 100000\n",
      "Iteration 50000 out of 100000\n",
      "Iteration 60000 out of 100000\n",
      "Iteration 70000 out of 100000\n",
      "Iteration 80000 out of 100000\n",
      "Iteration 90000 out of 100000\n",
      "Iteration 100000 out of 100000\n"
     ]
    }
   ],
   "source": [
    "np.random.seed(945)\n",
    "\n",
    "N = 100000\n",
    "rooms = 16\n",
    "alpha = np.ones([rooms,rooms])\n",
    "shift_env = 0.01\n",
    "env_mark = 0\n",
    "m = 0.1\n",
    "gamma = 0.5\n",
    "s = np.random.randint(0,16)\n",
    "env_A = np.array([[1,2,3,4],[5,6,7,8],[9,10,11,12],[13,14,15,16]])\n",
    "env_B = np.array([[6,3,5,13],[1,7,4,8],[9,15,12,14],[10,11,16,2]])\n",
    "environment = env_A\n",
    "theta = links(environment, rooms)\n",
    "change_point = []\n",
    "alpha_time = np.zeros([rooms,rooms,N])\n",
    "\n",
    "for n in range(N):\n",
    "    if((n+1)%(N/10) == 0):\n",
    "        print(\"Iteration {} out of {}\".format(n+1,N))\n",
    "    coin = np.random.rand()\n",
    "    if(coin < shift_env):\n",
    "        change_point.append(n)\n",
    "        if(env_mark == 0):\n",
    "            env_mark = 1\n",
    "            environment = env_B\n",
    "            theta = links(environment,rooms)\n",
    "        else:\n",
    "            env_mark = 0\n",
    "            environment = env_A\n",
    "            theta = links(environment,rooms)\n",
    "\n",
    "    new_room = np.random.randint(0,4)\n",
    "    s_prime = theta[s,new_room]-1\n",
    "    likelihood = np.ones(rooms)\n",
    "    likelihood[s_prime] += 1\n",
    "    a = np.delete(alpha[s,:],s)\n",
    "    b = np.delete(likelihood,s)\n",
    "    surprise = KL_dirichlet(a,b)\n",
    "    B_max = KL_dirichlet(b,a)\n",
    "    B = (m*surprise/(1+m*surprise))*B_max\n",
    "    def F(x):\n",
    "        return (KL_dirichlet(x*b + (1-x)*a,a) - B)\n",
    "    gamma = optimize.newton(F,gamma)\n",
    "    alpha[s,:] = (1-gamma)*alpha[s,:] + gamma*likelihood\n",
    "    alpha_time[:,:,n] = alpha\n",
    "    s = s_prime\n",
    "    \n",
    "\n",
    "        "
   ]
  },
  {
   "cell_type": "code",
   "execution_count": 127,
   "metadata": {},
   "outputs": [
    {
     "name": "stdout",
     "output_type": "stream",
     "text": [
      "[315, 465, 638, 817, 1058, 1139, 1157, 1265, 1497, 1677, 1700, 1810, 1831, 1924, 2053, 2071, 2145, 2217, 2296, 2477, 2557, 2643, 2648, 2690, 2790, 2811, 2917, 2980, 3067, 3141, 3193, 3259, 3315, 3324, 3461, 3510, 3584, 3600, 3697, 3716, 3761, 3771, 3811, 3824, 3999, 4031, 4125, 4181, 4267, 4324, 4366, 4501, 4883, 4949, 5184, 5441, 5523, 5526, 5529, 5558, 5655, 5667, 5695, 5717, 5809, 5833, 5838, 5853, 5920, 5936, 5976, 5979, 5997, 6015, 6116, 6202, 6314, 6518, 6520, 6526, 6608, 6628, 6649, 6688, 6760, 6846, 7072, 7106, 7193, 7262, 7393, 7406, 7545, 7629, 7697, 7791, 7835, 7995, 8049, 8055, 8067, 8216, 8230, 8239, 8369, 8422, 8523, 8799, 8810, 8848, 9268, 9336, 9361, 9676, 9728, 9867, 9994, 10099, 10207, 10231, 10456, 10647, 10724, 10734, 10892, 11027, 11124, 11244, 11257, 11269, 11282, 11464, 11662, 11854, 11950, 12060, 12323, 12393, 12445, 12618, 12669, 12740, 12811, 12836, 12943, 12964, 12995, 13201, 13204, 13298, 13796, 14076, 14140, 14232, 14324, 14345, 14355, 14381, 14437, 14551, 14767, 14776, 14809, 14872, 14906, 14943, 15062, 15068, 15170, 15453, 15530, 15673, 15676, 15692, 15738, 15860, 16013, 16156, 16580, 16701, 16755, 16839, 17131, 17188, 17347, 17439, 17756, 17982, 18104, 18109, 18130, 18166, 18316, 18353, 18465, 18527, 18634, 18715, 19035, 19122, 19165, 19247, 19319, 19387, 19675, 19790, 19820, 19878, 20006, 20032, 20231, 20483, 20683, 20856, 20910, 21075, 21126, 21270, 21409, 21412, 21565, 21636, 21752, 21770, 21772, 21780, 21858, 22110, 22129, 22133, 22164, 22235, 22402, 22537, 22559, 22697, 22708, 22803, 22827, 22885, 22901, 22906, 23051, 23115, 23175, 23185, 23284, 23421, 23462, 23746, 23823, 23948, 23997, 24386, 24418, 24551, 24730, 24750, 24877, 25114, 25124, 25225, 25614, 25664, 25765, 25862, 26290, 26363, 26421, 26506, 26763, 26950, 27186, 27338, 27421, 27603, 27830, 27860, 27885, 27926, 27932, 28052, 28255, 28310, 28318, 28403, 28463, 28472, 28511, 28632, 28825, 29023, 29053, 29080, 29217, 29255, 29329, 29351, 29416, 29568, 29593, 29798, 29820, 29899, 30114, 30141, 30291, 30336, 30428, 30483, 30500, 30654, 30816, 30818, 30968, 30969, 31087, 31166, 31225, 31388, 31426, 31676, 31678, 31749, 31778, 31904, 31910, 32003, 32014, 32217, 32227, 32315, 32414, 32544, 32553, 32580, 32637, 32704, 32855, 32907, 33015, 33123, 33145, 33209, 33485, 33530, 33592, 33594, 33674, 33777, 33791, 33827, 33914, 34028, 34230, 34324, 34413, 34438, 34486, 34747, 34783, 34827, 35027, 35081, 35097, 35107, 35329, 35378, 35761, 35978, 36080, 36164, 36197, 36217, 36316, 36322, 36683, 36824, 36884, 36910, 36917, 37155, 37207, 37484, 37609, 37851, 37891, 37919, 38034, 38182, 38212, 38294, 38297, 38514, 38673, 38740, 38822, 38827, 38839, 38980, 39119, 39294, 39473, 39605, 39627, 39638, 39735, 39891, 39998, 40242, 40245, 40330, 40336, 40394, 40493, 40503, 40527, 40528, 40625, 40689, 40754, 40788, 40940, 40945, 41211, 41288, 41421, 41469, 41546, 41593, 41660, 41699, 41722, 41800, 41817, 41912, 41963, 42068, 42179, 42180, 42193, 42230, 42249, 42252, 42332, 42337, 42366, 42426, 42656, 42855, 42902, 42950, 42993, 42998, 43200, 43263, 43271, 43327, 43367, 43443, 43914, 44178, 44191, 44296, 44408, 44536, 44596, 44985, 45107, 45112, 45116, 45208, 45550, 45625, 45637, 45739, 45797, 45971, 45995, 46105, 46192, 46194, 46311, 46488, 46506, 46545, 46601, 46651, 46999, 47015, 47173, 47257, 47378, 47671, 47725, 47913, 48029, 48076, 48081, 48085, 48175, 48200, 48220, 48225, 48249, 48269, 48312, 48357, 48571, 48603, 48607, 48720, 49282, 49292, 49334, 49445, 49549, 49702, 49712, 49819, 49937, 49965, 50181, 50402, 50459, 50464, 50495, 50518, 50533, 50644, 51138, 51222, 51277, 51331, 51449, 51593, 51731, 51879, 51880, 51883, 52074, 52221, 52233, 52581, 52654, 52680, 52728, 52835, 52876, 52878, 52905, 52915, 52960, 53001, 53009, 53105, 53137, 53338, 53537, 53599, 53654, 53832, 53863, 53871, 53957, 54130, 54359, 54618, 54776, 54848, 54865, 54937, 54958, 55043, 55061, 55082, 55211, 55276, 55289, 55540, 56130, 56153, 56194, 56250, 56420, 56421, 56437, 56445, 56754, 56835, 56920, 56968, 57087, 57146, 57157, 57232, 57312, 57318, 57336, 57345, 57355, 57526, 57600, 57685, 57727, 57959, 58067, 58129, 58297, 58313, 58390, 58409, 58495, 58837, 59527, 59567, 59779, 59990, 60044, 60153, 60315, 60669, 60791, 60872, 60898, 61009, 61168, 61207, 61221, 61292, 61325, 61457, 61480, 61654, 61671, 61934, 61937, 62068, 62202, 62220, 62441, 62641, 62764, 62773, 62825, 62829, 62843, 63006, 63057, 63175, 63255, 63268, 63319, 63451, 63551, 63582, 63724, 63807, 63957, 63959, 64175, 64177, 64239, 64449, 64487, 64509, 64534, 64568, 64615, 64724, 64835, 65502, 65578, 65707, 65721, 65727, 65747, 65818, 65967, 66210, 66244, 66552, 66609, 66628, 66735, 66917, 66925, 66945, 66958, 67046, 67099, 67146, 67650, 67769, 67928, 68208, 68287, 68356, 68360, 68725, 69081, 69114, 69182, 69274, 69307, 69391, 69475, 69508, 69752, 69916, 69938, 69986, 70023, 70029, 70036, 70071, 70224, 70252, 70663, 70685, 70738, 70767, 70786, 71344, 71356, 71393, 71591, 71723, 71905, 71908, 71968, 72277, 72585, 72613, 72665, 73296, 73349, 73727, 73892, 73958, 74100, 74123, 74146, 74191, 74228, 74269, 74454, 74921, 75023, 75052, 75082, 75173, 75372, 75466, 75489, 75747, 75875, 75890, 75949, 76116, 76293, 76376, 76463, 76564, 76664, 76786, 76805, 76836, 76888, 77008, 77074, 77178, 77239, 77295, 77437, 77474, 77483, 77568, 77770, 77789, 78031, 78124, 78200, 78207, 78222, 78318, 78370, 78375, 78408, 78449, 78640, 78964, 79042, 79139, 79289, 79560, 79570, 79698, 79739, 79983, 80072, 80203, 80350, 80596, 80635, 80675, 80757, 80845, 80964, 81023, 81151, 81177, 81180, 81425, 81438, 81485, 81598, 81736, 81777, 81953, 81979, 82164, 82326, 82485, 82501, 82559, 82574, 82852, 82895, 82993, 83069, 83229, 83412, 83518, 83520, 83620, 83680, 83821, 83856, 83945, 84045, 84169, 84466, 84488, 84540, 84658, 84687, 84717, 84815, 84906, 84956, 84993, 85268, 85397, 85547, 85629, 85724, 85961, 86040, 86082, 86447, 86846, 87100, 87113, 87242, 87566, 87610, 87637, 88129, 88479, 88494, 88504, 88548, 88584, 88592, 88665, 88885, 88958, 89016, 89087, 89230, 89243, 89308, 89611, 89612, 89833, 89915, 90019, 90024, 90111, 90154, 90188, 90836, 90895, 91074, 91255, 91342, 91378, 91393, 91473, 91591, 91645, 91778, 91819, 91876, 91948, 92174, 92188, 92407, 92501, 92542, 92663, 92676, 93138, 93404, 93434, 93460, 93466, 93586, 93741, 93792, 93832, 94318, 94331, 94333, 94370, 94664, 94824, 95141, 95158, 95386, 95764, 95812, 96059, 96120, 96125, 96177, 96356, 96480, 96571, 96621, 96742, 96807, 96849, 96850, 96869, 96914, 96916, 97053, 97107, 97171, 97301, 97324, 97356, 97438, 97450, 97515, 97589, 97899, 98008, 98109, 98325, 98410, 98438, 98602, 98747, 98817, 98829, 99135, 99224, 99458, 99601, 99743, 99746, 99769, 99908, 99912, 99925]\n"
     ]
    }
   ],
   "source": [
    "print(change_point)"
   ]
  },
  {
   "cell_type": "markdown",
   "metadata": {},
   "source": [
    "## Comparison with reference patterns"
   ]
  },
  {
   "cell_type": "code",
   "execution_count": 164,
   "metadata": {},
   "outputs": [
    {
     "data": {
      "image/png": "[encoded data removed]",
      "text/plain": [
       "<Figure size 432x288 with 1 Axes>"
      ]
     },
     "metadata": {},
     "output_type": "display_data"
    },
    {
     "data": {
      "image/png": "[encoded data removed]",
      "text/plain": [
       "<Figure size 432x288 with 1 Axes>"
      ]
     },
     "metadata": {},
     "output_type": "display_data"
    },
    {
     "data": {
      "image/png": "[encoded data removed]",
      "text/plain": [
       "<Figure size 432x288 with 1 Axes>"
      ]
     },
     "metadata": {},
     "output_type": "display_data"
    }
   ],
   "source": [
    "prediction = alpha_time[:,:,91200]\n",
    "prediction = np.squeeze(prediction)\n",
    "normalizer = np.sum(prediction,axis=1)\n",
    "normalizer = np.outer(normalizer, np.ones(prediction.shape[1]))\n",
    "prediction = prediction/normalizer\n",
    "\n",
    "plt.imshow(prediction,cmap='Reds')\n",
    "plt.show()\n",
    "\n",
    "ref_B = np.zeros([rooms,rooms])\n",
    "theta = links(env_B, rooms)\n",
    "for i in range(rooms):\n",
    "    ref_B[i,(theta[i,:]-1).astype(int)] = 0.25\n",
    "    \n",
    "plt.imshow(ref_B,cmap='Reds')\n",
    "plt.show()\n",
    "\n",
    "\n",
    "ref_A = np.zeros([rooms,rooms])\n",
    "theta = links(env_A, rooms)\n",
    "for i in range(rooms):\n",
    "    ref_A[i,(theta[i,:]-1).astype(int)] = 0.25\n",
    "    \n",
    "plt.imshow(ref_A,cmap='Reds')\n",
    "plt.show()"
   ]
  },
  {
   "cell_type": "code",
   "execution_count": null,
   "metadata": {},
   "outputs": [],
   "source": []
  }
 ],
 "metadata": {
  "kernelspec": {
   "display_name": "Python 2",
   "language": "python",
   "name": "python2"
  },
  "language_info": {
   "codemirror_mode": {
    "name": "ipython",
    "version": 2
   },
   "file_extension": ".py",
   "mimetype": "text/x-python",
   "name": "python",
   "nbconvert_exporter": "python",
   "pygments_lexer": "ipython2",
   "version": "2.7.14"
  }
 },
 "nbformat": 4,
 "nbformat_minor": 2
}
